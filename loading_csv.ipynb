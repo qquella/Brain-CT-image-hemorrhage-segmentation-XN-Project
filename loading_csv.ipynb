{
 "cells": [
  {
   "cell_type": "code",
   "execution_count": 2,
   "outputs": [],
   "source": [
    "import pandas as pd"
   ],
   "metadata": {
    "collapsed": false,
    "ExecuteTime": {
     "end_time": "2024-11-14T02:36:09.374896Z",
     "start_time": "2024-11-14T02:36:09.373919Z"
    }
   },
   "id": "4b15c66d741506e7"
  },
  {
   "cell_type": "code",
   "execution_count": 17,
   "id": "initial_id",
   "metadata": {
    "collapsed": true,
    "ExecuteTime": {
     "end_time": "2024-11-14T03:21:14.511785Z",
     "start_time": "2024-11-14T03:21:14.080782Z"
    }
   },
   "outputs": [
    {
     "name": "stdout",
     "output_type": "stream",
     "text": [
      "EDH df length: 401\n",
      "IVH df length: 1524\n",
      "IPH df length: 640\n",
      "SDH df length: 290\n",
      "SAH df length: 389\n",
      "MCH df length: 432\n"
     ]
    }
   ],
   "source": [
    "### load in all the CSV's for each ICH\n",
    "\n",
    "## THIS IS THE CORRECT WAY THAT WE NEED TO TRY, NOT LOADING FROM IMG DIRECTORY\n",
    "\n",
    "def is_invalid(value):\n",
    "    return value in ['[]', '[[]]'] or pd.isna(value)\n",
    "\n",
    "\n",
    "EDH_df = pd.read_csv('Hemorrhage Segmentation Project/Results_Epidural Hemorrhage Detection_2020-11-16_21.31.26.148.csv')\n",
    "EDH_df['Combined Label'] = EDH_df['Correct Label'].combine_first(EDH_df['Majority Label'])\n",
    "\n",
    "EDH_df = EDH_df[~EDH_df['Combined Label'].apply(is_invalid)].reset_index(drop=True)\n",
    "EDH_df = EDH_df[~EDH_df['Labeling State'].isin(['Flagged', 'In Progress'])]\n",
    "EDH_valid_df = EDH_df[['Origin', 'Combined Label', 'Labeling State']]\n",
    "\n",
    "# print(EDH_valid_df.columns)\n",
    "print(f'EDH df length: {len(EDH_valid_df)}')\n",
    "\n",
    "\n",
    "IVH_df = pd.read_csv('Hemorrhage Segmentation Project/Results_Brain Hemorrhage Tracing_2020-09-28_15.21.52.597.csv') # IVH\n",
    "\n",
    "IVH_df = IVH_df[['Origin', 'Number of ROIs', 'Labeling State']]\n",
    "IVH_df = IVH_df[~IVH_df['Labeling State'].isin(['Flagged', 'In Progress'])]\n",
    "IVH_valid_df = IVH_df[IVH_df['Number of ROIs'] != 0]\n",
    "\n",
    "# print(IVH_valid_df.columns)\n",
    "print(f'IVH df length: {len(IVH_valid_df)}')\n",
    "\n",
    "\n",
    "IPH_df = pd.read_csv('Hemorrhage Segmentation Project/Results_Intraparenchymal Hemorrhage Detection_2020-11-16_21.39.31.268.csv')\n",
    "IPH_df['Combined Label'] = IPH_df['Correct Label'].combine_first(IPH_df['Majority Label'])\n",
    "\n",
    "IPH_df = IPH_df[~IPH_df['Combined Label'].apply(is_invalid)].reset_index(drop=True)\n",
    "IPH_df = IPH_df[~IPH_df['Labeling State'].isin(['Flagged', 'In Progress'])]\n",
    "IPH_valid_df = IPH_df[['Origin', 'Combined Label', 'Labeling State']]\n",
    "\n",
    "# print(IPH_valid_df.columns)\n",
    "print(f'IPH df length: {len(IPH_valid_df)}')\n",
    "\n",
    "\n",
    "SDH_df = pd.read_csv('Hemorrhage Segmentation Project/Results_Subdural Hemorrhage Detection_2020-11-16_21.37.19.745.csv')\n",
    "SDH_df['Combined Label'] = SDH_df['Correct Label'].combine_first(SDH_df['Majority Label'])\n",
    "SDH_df = SDH_df[~SDH_df['Combined Label'].apply(is_invalid)].reset_index(drop=True)\n",
    "SDH_df = SDH_df[~SDH_df['Labeling State'].isin(['Flagged', 'In Progress'])]\n",
    "SDH_valid_df = SDH_df[['Origin', 'Combined Label', 'Labeling State']]\n",
    "\n",
    "# print(SDH_valid_df.columns)\n",
    "print(f'SDH df length: {len(SDH_valid_df)}')\n",
    "\n",
    "\n",
    "SAH_df = pd.read_csv('Hemorrhage Segmentation Project/Results_Subarachnoid Hemorrhage Detection_2020-11-16_21.36.18.668.csv')\n",
    "SAH_df['Combined Label'] = SAH_df['Correct Label'].combine_first(SAH_df['Majority Label'])\n",
    "SAH_df = SAH_df[~SAH_df['Combined Label'].apply(is_invalid)].reset_index(drop=True)\n",
    "SAH_df = SAH_df[~SAH_df['Labeling State'].isin(['Flagged', 'In Progress'])]\n",
    "SAH_valid_df = SAH_df[['Origin', 'Combined Label', 'Labeling State']]\n",
    "\n",
    "# print(SAH_valid_df.columns)\n",
    "print(f'SAH df length: {len(SAH_valid_df)}')\n",
    "\n",
    "MCH_df = pd.read_csv('Hemorrhage Segmentation Project/Results_Multiple Hemorrhage Detection_2020-11-16_21.36.24.018.csv') # MCH\n",
    "MCH_df['Combined Label'] = MCH_df['Correct Label'].combine_first(MCH_df['Majority Label'])\n",
    "MCH_df = MCH_df[~MCH_df['Combined Label'].apply(is_invalid)].reset_index(drop=True)\n",
    "MCH_df = MCH_df[~MCH_df['Labeling State'].isin(['Flagged', 'In Progress'])]\n",
    "MCH_valid_df = MCH_df[['Origin', 'Combined Label', 'Labeling State']]\n",
    "\n",
    "# print(MCH_valid_df.columns)\n",
    "print(f'MCH df length: {len(MCH_valid_df)}')"
   ]
  }
 ],
 "metadata": {
  "kernelspec": {
   "display_name": "Python 3",
   "language": "python",
   "name": "python3"
  },
  "language_info": {
   "codemirror_mode": {
    "name": "ipython",
    "version": 2
   },
   "file_extension": ".py",
   "mimetype": "text/x-python",
   "name": "python",
   "nbconvert_exporter": "python",
   "pygments_lexer": "ipython2",
   "version": "2.7.6"
  }
 },
 "nbformat": 4,
 "nbformat_minor": 5
}
