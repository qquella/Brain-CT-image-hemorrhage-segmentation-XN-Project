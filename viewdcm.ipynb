{
 "cells": [
  {
   "cell_type": "code",
   "execution_count": 1,
   "id": "50b39148",
   "metadata": {
    "ExecuteTime": {
     "end_time": "2024-11-02T22:15:53.336811Z",
     "start_time": "2024-11-02T22:15:50.469591Z"
    }
   },
   "outputs": [
    {
     "data": {
      "text/plain": "OneHotEncoder()",
      "text/html": "<style>#sk-container-id-1 {\n  /* Definition of color scheme common for light and dark mode */\n  --sklearn-color-text: black;\n  --sklearn-color-line: gray;\n  /* Definition of color scheme for unfitted estimators */\n  --sklearn-color-unfitted-level-0: #fff5e6;\n  --sklearn-color-unfitted-level-1: #f6e4d2;\n  --sklearn-color-unfitted-level-2: #ffe0b3;\n  --sklearn-color-unfitted-level-3: chocolate;\n  /* Definition of color scheme for fitted estimators */\n  --sklearn-color-fitted-level-0: #f0f8ff;\n  --sklearn-color-fitted-level-1: #d4ebff;\n  --sklearn-color-fitted-level-2: #b3dbfd;\n  --sklearn-color-fitted-level-3: cornflowerblue;\n\n  /* Specific color for light theme */\n  --sklearn-color-text-on-default-background: var(--sg-text-color, var(--theme-code-foreground, var(--jp-content-font-color1, black)));\n  --sklearn-color-background: var(--sg-background-color, var(--theme-background, var(--jp-layout-color0, white)));\n  --sklearn-color-border-box: var(--sg-text-color, var(--theme-code-foreground, var(--jp-content-font-color1, black)));\n  --sklearn-color-icon: #696969;\n\n  @media (prefers-color-scheme: dark) {\n    /* Redefinition of color scheme for dark theme */\n    --sklearn-color-text-on-default-background: var(--sg-text-color, var(--theme-code-foreground, var(--jp-content-font-color1, white)));\n    --sklearn-color-background: var(--sg-background-color, var(--theme-background, var(--jp-layout-color0, #111)));\n    --sklearn-color-border-box: var(--sg-text-color, var(--theme-code-foreground, var(--jp-content-font-color1, white)));\n    --sklearn-color-icon: #878787;\n  }\n}\n\n#sk-container-id-1 {\n  color: var(--sklearn-color-text);\n}\n\n#sk-container-id-1 pre {\n  padding: 0;\n}\n\n#sk-container-id-1 input.sk-hidden--visually {\n  border: 0;\n  clip: rect(1px 1px 1px 1px);\n  clip: rect(1px, 1px, 1px, 1px);\n  height: 1px;\n  margin: -1px;\n  overflow: hidden;\n  padding: 0;\n  position: absolute;\n  width: 1px;\n}\n\n#sk-container-id-1 div.sk-dashed-wrapped {\n  border: 1px dashed var(--sklearn-color-line);\n  margin: 0 0.4em 0.5em 0.4em;\n  box-sizing: border-box;\n  padding-bottom: 0.4em;\n  background-color: var(--sklearn-color-background);\n}\n\n#sk-container-id-1 div.sk-container {\n  /* jupyter's `normalize.less` sets `[hidden] { display: none; }`\n     but bootstrap.min.css set `[hidden] { display: none !important; }`\n     so we also need the `!important` here to be able to override the\n     default hidden behavior on the sphinx rendered scikit-learn.org.\n     See: https://github.com/scikit-learn/scikit-learn/issues/21755 */\n  display: inline-block !important;\n  position: relative;\n}\n\n#sk-container-id-1 div.sk-text-repr-fallback {\n  display: none;\n}\n\ndiv.sk-parallel-item,\ndiv.sk-serial,\ndiv.sk-item {\n  /* draw centered vertical line to link estimators */\n  background-image: linear-gradient(var(--sklearn-color-text-on-default-background), var(--sklearn-color-text-on-default-background));\n  background-size: 2px 100%;\n  background-repeat: no-repeat;\n  background-position: center center;\n}\n\n/* Parallel-specific style estimator block */\n\n#sk-container-id-1 div.sk-parallel-item::after {\n  content: \"\";\n  width: 100%;\n  border-bottom: 2px solid var(--sklearn-color-text-on-default-background);\n  flex-grow: 1;\n}\n\n#sk-container-id-1 div.sk-parallel {\n  display: flex;\n  align-items: stretch;\n  justify-content: center;\n  background-color: var(--sklearn-color-background);\n  position: relative;\n}\n\n#sk-container-id-1 div.sk-parallel-item {\n  display: flex;\n  flex-direction: column;\n}\n\n#sk-container-id-1 div.sk-parallel-item:first-child::after {\n  align-self: flex-end;\n  width: 50%;\n}\n\n#sk-container-id-1 div.sk-parallel-item:last-child::after {\n  align-self: flex-start;\n  width: 50%;\n}\n\n#sk-container-id-1 div.sk-parallel-item:only-child::after {\n  width: 0;\n}\n\n/* Serial-specific style estimator block */\n\n#sk-container-id-1 div.sk-serial {\n  display: flex;\n  flex-direction: column;\n  align-items: center;\n  background-color: var(--sklearn-color-background);\n  padding-right: 1em;\n  padding-left: 1em;\n}\n\n\n/* Toggleable style: style used for estimator/Pipeline/ColumnTransformer box that is\nclickable and can be expanded/collapsed.\n- Pipeline and ColumnTransformer use this feature and define the default style\n- Estimators will overwrite some part of the style using the `sk-estimator` class\n*/\n\n/* Pipeline and ColumnTransformer style (default) */\n\n#sk-container-id-1 div.sk-toggleable {\n  /* Default theme specific background. It is overwritten whether we have a\n  specific estimator or a Pipeline/ColumnTransformer */\n  background-color: var(--sklearn-color-background);\n}\n\n/* Toggleable label */\n#sk-container-id-1 label.sk-toggleable__label {\n  cursor: pointer;\n  display: block;\n  width: 100%;\n  margin-bottom: 0;\n  padding: 0.5em;\n  box-sizing: border-box;\n  text-align: center;\n}\n\n#sk-container-id-1 label.sk-toggleable__label-arrow:before {\n  /* Arrow on the left of the label */\n  content: \"▸\";\n  float: left;\n  margin-right: 0.25em;\n  color: var(--sklearn-color-icon);\n}\n\n#sk-container-id-1 label.sk-toggleable__label-arrow:hover:before {\n  color: var(--sklearn-color-text);\n}\n\n/* Toggleable content - dropdown */\n\n#sk-container-id-1 div.sk-toggleable__content {\n  max-height: 0;\n  max-width: 0;\n  overflow: hidden;\n  text-align: left;\n  /* unfitted */\n  background-color: var(--sklearn-color-unfitted-level-0);\n}\n\n#sk-container-id-1 div.sk-toggleable__content.fitted {\n  /* fitted */\n  background-color: var(--sklearn-color-fitted-level-0);\n}\n\n#sk-container-id-1 div.sk-toggleable__content pre {\n  margin: 0.2em;\n  border-radius: 0.25em;\n  color: var(--sklearn-color-text);\n  /* unfitted */\n  background-color: var(--sklearn-color-unfitted-level-0);\n}\n\n#sk-container-id-1 div.sk-toggleable__content.fitted pre {\n  /* unfitted */\n  background-color: var(--sklearn-color-fitted-level-0);\n}\n\n#sk-container-id-1 input.sk-toggleable__control:checked~div.sk-toggleable__content {\n  /* Expand drop-down */\n  max-height: 200px;\n  max-width: 100%;\n  overflow: auto;\n}\n\n#sk-container-id-1 input.sk-toggleable__control:checked~label.sk-toggleable__label-arrow:before {\n  content: \"▾\";\n}\n\n/* Pipeline/ColumnTransformer-specific style */\n\n#sk-container-id-1 div.sk-label input.sk-toggleable__control:checked~label.sk-toggleable__label {\n  color: var(--sklearn-color-text);\n  background-color: var(--sklearn-color-unfitted-level-2);\n}\n\n#sk-container-id-1 div.sk-label.fitted input.sk-toggleable__control:checked~label.sk-toggleable__label {\n  background-color: var(--sklearn-color-fitted-level-2);\n}\n\n/* Estimator-specific style */\n\n/* Colorize estimator box */\n#sk-container-id-1 div.sk-estimator input.sk-toggleable__control:checked~label.sk-toggleable__label {\n  /* unfitted */\n  background-color: var(--sklearn-color-unfitted-level-2);\n}\n\n#sk-container-id-1 div.sk-estimator.fitted input.sk-toggleable__control:checked~label.sk-toggleable__label {\n  /* fitted */\n  background-color: var(--sklearn-color-fitted-level-2);\n}\n\n#sk-container-id-1 div.sk-label label.sk-toggleable__label,\n#sk-container-id-1 div.sk-label label {\n  /* The background is the default theme color */\n  color: var(--sklearn-color-text-on-default-background);\n}\n\n/* On hover, darken the color of the background */\n#sk-container-id-1 div.sk-label:hover label.sk-toggleable__label {\n  color: var(--sklearn-color-text);\n  background-color: var(--sklearn-color-unfitted-level-2);\n}\n\n/* Label box, darken color on hover, fitted */\n#sk-container-id-1 div.sk-label.fitted:hover label.sk-toggleable__label.fitted {\n  color: var(--sklearn-color-text);\n  background-color: var(--sklearn-color-fitted-level-2);\n}\n\n/* Estimator label */\n\n#sk-container-id-1 div.sk-label label {\n  font-family: monospace;\n  font-weight: bold;\n  display: inline-block;\n  line-height: 1.2em;\n}\n\n#sk-container-id-1 div.sk-label-container {\n  text-align: center;\n}\n\n/* Estimator-specific */\n#sk-container-id-1 div.sk-estimator {\n  font-family: monospace;\n  border: 1px dotted var(--sklearn-color-border-box);\n  border-radius: 0.25em;\n  box-sizing: border-box;\n  margin-bottom: 0.5em;\n  /* unfitted */\n  background-color: var(--sklearn-color-unfitted-level-0);\n}\n\n#sk-container-id-1 div.sk-estimator.fitted {\n  /* fitted */\n  background-color: var(--sklearn-color-fitted-level-0);\n}\n\n/* on hover */\n#sk-container-id-1 div.sk-estimator:hover {\n  /* unfitted */\n  background-color: var(--sklearn-color-unfitted-level-2);\n}\n\n#sk-container-id-1 div.sk-estimator.fitted:hover {\n  /* fitted */\n  background-color: var(--sklearn-color-fitted-level-2);\n}\n\n/* Specification for estimator info (e.g. \"i\" and \"?\") */\n\n/* Common style for \"i\" and \"?\" */\n\n.sk-estimator-doc-link,\na:link.sk-estimator-doc-link,\na:visited.sk-estimator-doc-link {\n  float: right;\n  font-size: smaller;\n  line-height: 1em;\n  font-family: monospace;\n  background-color: var(--sklearn-color-background);\n  border-radius: 1em;\n  height: 1em;\n  width: 1em;\n  text-decoration: none !important;\n  margin-left: 1ex;\n  /* unfitted */\n  border: var(--sklearn-color-unfitted-level-1) 1pt solid;\n  color: var(--sklearn-color-unfitted-level-1);\n}\n\n.sk-estimator-doc-link.fitted,\na:link.sk-estimator-doc-link.fitted,\na:visited.sk-estimator-doc-link.fitted {\n  /* fitted */\n  border: var(--sklearn-color-fitted-level-1) 1pt solid;\n  color: var(--sklearn-color-fitted-level-1);\n}\n\n/* On hover */\ndiv.sk-estimator:hover .sk-estimator-doc-link:hover,\n.sk-estimator-doc-link:hover,\ndiv.sk-label-container:hover .sk-estimator-doc-link:hover,\n.sk-estimator-doc-link:hover {\n  /* unfitted */\n  background-color: var(--sklearn-color-unfitted-level-3);\n  color: var(--sklearn-color-background);\n  text-decoration: none;\n}\n\ndiv.sk-estimator.fitted:hover .sk-estimator-doc-link.fitted:hover,\n.sk-estimator-doc-link.fitted:hover,\ndiv.sk-label-container:hover .sk-estimator-doc-link.fitted:hover,\n.sk-estimator-doc-link.fitted:hover {\n  /* fitted */\n  background-color: var(--sklearn-color-fitted-level-3);\n  color: var(--sklearn-color-background);\n  text-decoration: none;\n}\n\n/* Span, style for the box shown on hovering the info icon */\n.sk-estimator-doc-link span {\n  display: none;\n  z-index: 9999;\n  position: relative;\n  font-weight: normal;\n  right: .2ex;\n  padding: .5ex;\n  margin: .5ex;\n  width: min-content;\n  min-width: 20ex;\n  max-width: 50ex;\n  color: var(--sklearn-color-text);\n  box-shadow: 2pt 2pt 4pt #999;\n  /* unfitted */\n  background: var(--sklearn-color-unfitted-level-0);\n  border: .5pt solid var(--sklearn-color-unfitted-level-3);\n}\n\n.sk-estimator-doc-link.fitted span {\n  /* fitted */\n  background: var(--sklearn-color-fitted-level-0);\n  border: var(--sklearn-color-fitted-level-3);\n}\n\n.sk-estimator-doc-link:hover span {\n  display: block;\n}\n\n/* \"?\"-specific style due to the `<a>` HTML tag */\n\n#sk-container-id-1 a.estimator_doc_link {\n  float: right;\n  font-size: 1rem;\n  line-height: 1em;\n  font-family: monospace;\n  background-color: var(--sklearn-color-background);\n  border-radius: 1rem;\n  height: 1rem;\n  width: 1rem;\n  text-decoration: none;\n  /* unfitted */\n  color: var(--sklearn-color-unfitted-level-1);\n  border: var(--sklearn-color-unfitted-level-1) 1pt solid;\n}\n\n#sk-container-id-1 a.estimator_doc_link.fitted {\n  /* fitted */\n  border: var(--sklearn-color-fitted-level-1) 1pt solid;\n  color: var(--sklearn-color-fitted-level-1);\n}\n\n/* On hover */\n#sk-container-id-1 a.estimator_doc_link:hover {\n  /* unfitted */\n  background-color: var(--sklearn-color-unfitted-level-3);\n  color: var(--sklearn-color-background);\n  text-decoration: none;\n}\n\n#sk-container-id-1 a.estimator_doc_link.fitted:hover {\n  /* fitted */\n  background-color: var(--sklearn-color-fitted-level-3);\n}\n</style><div id=\"sk-container-id-1\" class=\"sk-top-container\"><div class=\"sk-text-repr-fallback\"><pre>OneHotEncoder()</pre><b>In a Jupyter environment, please rerun this cell to show the HTML representation or trust the notebook. <br />On GitHub, the HTML representation is unable to render, please try loading this page with nbviewer.org.</b></div><div class=\"sk-container\" hidden><div class=\"sk-item\"><div class=\"sk-estimator fitted sk-toggleable\"><input class=\"sk-toggleable__control sk-hidden--visually\" id=\"sk-estimator-id-1\" type=\"checkbox\" checked><label for=\"sk-estimator-id-1\" class=\"sk-toggleable__label fitted sk-toggleable__label-arrow fitted\">&nbsp;&nbsp;OneHotEncoder<a class=\"sk-estimator-doc-link fitted\" rel=\"noreferrer\" target=\"_blank\" href=\"https://scikit-learn.org/1.5/modules/generated/sklearn.preprocessing.OneHotEncoder.html\">?<span>Documentation for OneHotEncoder</span></a><span class=\"sk-estimator-doc-link fitted\">i<span>Fitted</span></span></label><div class=\"sk-toggleable__content fitted\"><pre>OneHotEncoder()</pre></div> </div></div></div></div>"
     },
     "execution_count": 1,
     "metadata": {},
     "output_type": "execute_result"
    }
   ],
   "source": [
    "import os\n",
    "import numpy as np\n",
    "import matplotlib\n",
    "from matplotlib import pyplot as plt\n",
    "from sklearn.preprocessing import OneHotEncoder\n",
    "from PIL import Image\n",
    "from sklearn.utils import shuffle\n",
    "import keras\n",
    "import tensorflow as tf\n",
    "\n",
    "file_dir = '/Users/sanket/Desktop/Fall 2024/ML 1/XN1 Data/renders/' \n",
    "\n",
    "# One Hot Encoding\n",
    "encoder = OneHotEncoder()\n",
    "encoder.fit([[0],[1],[2],[3],[4]])\n",
    "\n",
    "# 0 --> Epidural\n",
    "# 1 --> Subarachnoid\n",
    "# 2 --> Intraparenchymal\n",
    "# 3 --> Subdural\n",
    "# 4 --> Intraventricular\n"
   ]
  },
  {
   "cell_type": "markdown",
   "source": [
    "### IMPORT EPIDURAL DATA"
   ],
   "metadata": {
    "collapsed": false
   },
   "id": "24de47c4391d6431"
  },
  {
   "cell_type": "code",
   "execution_count": null,
   "outputs": [],
   "source": [
    "# Import Epidural Data\n",
    "# 1 -> brain_bone_window\n",
    "# 2 -> brain_window\n",
    "# 3 -> max_contrast_window\n",
    "# 4 -> subdural_window\n",
    "epi_1 = []\n",
    "epi_2 = []\n",
    "epi_3 = []\n",
    "epi_4 = []\n",
    "\n",
    "for dirname, _, filenames in os.walk(file_dir + 'epidural/brain_bone_window/'):\n",
    "    for filename in filenames:\n",
    "        epi_1.append(os.path.join(dirname, filename))\n",
    "        \n",
    "for dirname, _, filenames in os.walk(file_dir + 'epidural/brain_window/d'):\n",
    "    for filename in filenames:\n",
    "        epi_2.append(os.path.join(dirname, filename))\n",
    "        \n",
    "for dirname, _, filenames in os.walk(file_dir + 'epidural/max_contrast_window/'):\n",
    "    for filename in filenames:\n",
    "        epi_3.append(os.path.join(dirname, filename))\n",
    "        \n",
    "for dirname, _, filenames in os.walk(file_dir + 'epidural/subdural_window/'):\n",
    "    for filename in filenames:\n",
    "        epi_4.append(os.path.join(dirname, filename)) "
   ],
   "metadata": {
    "collapsed": false
   },
   "id": "b403ece3e0162aa4"
  },
  {
   "cell_type": "code",
   "execution_count": null,
   "outputs": [],
   "source": [
    "epidural_train_data = []\n",
    "epi_1_train = []\n",
    "epi_2_train = []\n",
    "epi_3_train = []\n",
    "epi_4_train = []\n",
    "epidural_result = []\n",
    "for path in epi_1:\n",
    "    img = Image.open(path)\n",
    "    # img = img.resize((128,128))\n",
    "    img = np.array(img)\n",
    "    if(img.shape == (512, 512, 3)):\n",
    "        epidural_train_data.append(np.array(img))\n",
    "        epi_1_train.append(np.array(img))\n",
    "        epidural_result.append(encoder.transform([[0]]).toarray())\n",
    "        \n",
    "for path in epi_2:\n",
    "    img = Image.open(path)\n",
    "    # img = img.resize((128,128))\n",
    "    img = np.array(img)\n",
    "    if(img.shape == (512, 512, 3)):\n",
    "        epidural_train_data.append(np.array(img))\n",
    "        epi_2_train.append(np.array(img))\n",
    "        epidural_result.append(encoder.transform([[0]]).toarray()) \n",
    "        \n",
    "for path in epi_3:\n",
    "    img = Image.open(path)\n",
    "    # img = img.resize((128,128))\n",
    "    img = np.array(img)\n",
    "    if(img.shape == (512, 512, 3)):\n",
    "        epidural_train_data.append(np.array(img))\n",
    "        epi_3_train.append(np.array(img))\n",
    "        epidural_result.append(encoder.transform([[0]]).toarray())\n",
    "        \n",
    "for path in epi_4:\n",
    "    img = Image.open(path)\n",
    "    # img = img.resize((128,128))\n",
    "    img = np.array(img)\n",
    "    if(img.shape == (512 ,512, 3)):\n",
    "        epidural_train_data.append(np.array(img))\n",
    "        epi_4_train.append(np.array(img))\n",
    "        epidural_result.append(encoder.transform([[0]]).toarray())"
   ],
   "metadata": {
    "collapsed": false
   },
   "id": "b1299f9649680ab1"
  },
  {
   "cell_type": "markdown",
   "source": [
    "### IMPORT SUBARACHNOID DATA"
   ],
   "metadata": {
    "collapsed": false
   },
   "id": "7f0ae84b04d57e87"
  },
  {
   "cell_type": "code",
   "execution_count": null,
   "outputs": [],
   "source": [
    "# Import Subarachnoid Data\n",
    "# 1 -> brain_bone_window\n",
    "# 2 -> brain_window\n",
    "# 3 -> max_contrast_window\n",
    "# 4 -> subdural_window\n",
    "arach_1 = []\n",
    "arach_2 = []\n",
    "arach_3 = []\n",
    "arach_4 = []\n",
    "\n",
    "for dirname, _, filenames in os.walk(file_dir + 'subarachnoid/brain_bone_window/'):\n",
    "    for filename in filenames:\n",
    "        arach_1.append(os.path.join(dirname, filename))\n",
    "        \n",
    "for dirname, _, filenames in os.walk(file_dir + 'subarachnoid/brain_window/d'):\n",
    "    for filename in filenames:\n",
    "        arach_2.append(os.path.join(dirname, filename))\n",
    "        \n",
    "for dirname, _, filenames in os.walk(file_dir + 'subarachnoid/max_contrast_window/'):\n",
    "    for filename in filenames:\n",
    "        arach_3.append(os.path.join(dirname, filename))\n",
    "        \n",
    "for dirname, _, filenames in os.walk(file_dir + 'subarachnoid/subdural_window/'):\n",
    "    for filename in filenames:\n",
    "        arach_4.append(os.path.join(dirname, filename)) "
   ],
   "metadata": {
    "collapsed": false
   },
   "id": "ec817c064ce11a50"
  },
  {
   "cell_type": "code",
   "execution_count": null,
   "outputs": [],
   "source": [
    "subarach_train_data = []\n",
    "arach_1_train = []\n",
    "arach_2_train = []\n",
    "arach_3_train = []\n",
    "arach_4_train = []\n",
    "subarach_result = []\n",
    "for path in arach_1:\n",
    "    img = Image.open(path)\n",
    "    # img = img.resize((128,128))\n",
    "    img = np.array(img)\n",
    "    if(img.shape == (512, 512, 3)):\n",
    "        subarach_train_data.append(np.array(img))\n",
    "        arach_1_train.append(np.array(img))\n",
    "        subarach_result.append(encoder.transform([[1]]).toarray())\n",
    "        \n",
    "for path in arach_2:\n",
    "    img = Image.open(path)\n",
    "    # img = img.resize((128,128))\n",
    "    img = np.array(img)\n",
    "    if(img.shape == (512, 512, 3)):\n",
    "        subarach_train_data.append(np.array(img))\n",
    "        arach_2_train.append(np.array(img))\n",
    "        subarach_result.append(encoder.transform([[1]]).toarray()) \n",
    "        \n",
    "for path in arach_3:\n",
    "    img = Image.open(path)\n",
    "    # img = img.resize((128,128))\n",
    "    img = np.array(img)\n",
    "    if(img.shape == (512, 512, 3)):\n",
    "        subarach_train_data.append(np.array(img))\n",
    "        arach_3_train.append(np.array(img))\n",
    "        subarach_result.append(encoder.transform([[1]]).toarray())\n",
    "        \n",
    "for path in arach_4:\n",
    "    img = Image.open(path)\n",
    "    # img = img.resize((128,128))\n",
    "    img = np.array(img)\n",
    "    if(img.shape == (512 ,512, 3)):\n",
    "        subarach_train_data.append(np.array(img))\n",
    "        arach_4_train.append(np.array(img))\n",
    "        subarach_result.append(encoder.transform([[1]]).toarray())"
   ],
   "metadata": {
    "collapsed": false
   },
   "id": "4146c8e4fed76672"
  },
  {
   "cell_type": "markdown",
   "source": [
    "### IMPORT INTRAPARENCHYMAL DATA"
   ],
   "metadata": {
    "collapsed": false
   },
   "id": "d5f88ff63d8fc9f8"
  },
  {
   "cell_type": "code",
   "execution_count": null,
   "outputs": [],
   "source": [
    "# Import Intraparenchymal Data\n",
    "# 1 -> brain_bone_window\n",
    "# 2 -> brain_window\n",
    "# 3 -> max_contrast_window\n",
    "# 4 -> subdural_window\n",
    "intrap_1 = []\n",
    "intrap_2 = []\n",
    "intrap_3 = []\n",
    "intrap_4 = []\n",
    "\n",
    "for dirname, _, filenames in os.walk(file_dir + 'intraparenchymal/brain_bone_window/'):\n",
    "    for filename in filenames:\n",
    "        intrap_1.append(os.path.join(dirname, filename))\n",
    "        \n",
    "for dirname, _, filenames in os.walk(file_dir + 'intraparenchymal/brain_window/d'):\n",
    "    for filename in filenames:\n",
    "        intrap_2.append(os.path.join(dirname, filename))\n",
    "        \n",
    "for dirname, _, filenames in os.walk(file_dir + 'intraparenchymal/max_contrast_window/'):\n",
    "    for filename in filenames:\n",
    "        intrap_3.append(os.path.join(dirname, filename))\n",
    "        \n",
    "for dirname, _, filenames in os.walk(file_dir + 'intraparenchymal/subdural_window/'):\n",
    "    for filename in filenames:\n",
    "        intrap_4.append(os.path.join(dirname, filename)) "
   ],
   "metadata": {
    "collapsed": false
   },
   "id": "72b3782920a8ec46"
  },
  {
   "cell_type": "code",
   "execution_count": null,
   "outputs": [],
   "source": [
    "intrap_train_data = []\n",
    "intrap_1_train = []\n",
    "intrap_2_train = []\n",
    "intrap_3_train = []\n",
    "intrap_4_train = []\n",
    "intrap_result = []\n",
    "for path in intrap_1:\n",
    "    img = Image.open(path)\n",
    "    # img = img.resize((128,128))\n",
    "    img = np.array(img)\n",
    "    if(img.shape == (512, 512, 3)):\n",
    "        intrap_train_data.append(np.array(img))\n",
    "        intrap_1_train.append(np.array(img))\n",
    "        intrap_result.append(encoder.transform([[2]]).toarray())\n",
    "        \n",
    "for path in intrap_2:\n",
    "    img = Image.open(path)\n",
    "    # img = img.resize((128,128))\n",
    "    img = np.array(img)\n",
    "    if(img.shape == (512, 512, 3)):\n",
    "        intrap_train_data.append(np.array(img))\n",
    "        intrap_2_train.append(np.array(img))\n",
    "        intrap_result.append(encoder.transform([[2]]).toarray()) \n",
    "        \n",
    "for path in intrap_3:\n",
    "    img = Image.open(path)\n",
    "    # img = img.resize((128,128))\n",
    "    img = np.array(img)\n",
    "    if(img.shape == (512, 512, 3)):\n",
    "        intrap_train_data.append(np.array(img))\n",
    "        intrap_3_train.append(np.array(img))\n",
    "        intrap_result.append(encoder.transform([[2]]).toarray())\n",
    "        \n",
    "for path in intrap_4:\n",
    "    img = Image.open(path)\n",
    "    # img = img.resize((128,128))\n",
    "    img = np.array(img)\n",
    "    if(img.shape == (512 ,512, 3)):\n",
    "        intrap_train_data.append(np.array(img))\n",
    "        intrap_4_train.append(np.array(img))\n",
    "        intrap_result.append(encoder.transform([[2]]).toarray())"
   ],
   "metadata": {
    "collapsed": false,
    "is_executing": true
   },
   "id": "c93ea28d3a1f7754"
  },
  {
   "cell_type": "markdown",
   "source": [
    "### IMPORT SUBDURAL DATA"
   ],
   "metadata": {
    "collapsed": false
   },
   "id": "1f85da7f633a749f"
  },
  {
   "cell_type": "code",
   "execution_count": null,
   "outputs": [],
   "source": [
    "# Import Subdural Data\n",
    "# 1 -> brain_bone_window\n",
    "# 2 -> brain_window\n",
    "# 3 -> max_contrast_window\n",
    "# 4 -> subdural_window\n",
    "subdur_1 = []\n",
    "subdur_2 = []\n",
    "subdur_3 = []\n",
    "subdur_4 = []\n",
    "\n",
    "for dirname, _, filenames in os.walk(file_dir + 'subdural/brain_bone_window/'):\n",
    "    for filename in filenames:\n",
    "        subdur_1.append(os.path.join(dirname, filename))\n",
    "        \n",
    "for dirname, _, filenames in os.walk(file_dir + 'subdural/brain_window/'):\n",
    "    for filename in filenames:\n",
    "        subdur_2.append(os.path.join(dirname, filename))\n",
    "        \n",
    "for dirname, _, filenames in os.walk(file_dir + 'subdural/max_contrast_window/'):\n",
    "    for filename in filenames:\n",
    "        subdur_3.append(os.path.join(dirname, filename))\n",
    "        \n",
    "for dirname, _, filenames in os.walk(file_dir + 'subdural/subdural_window/'):\n",
    "    for filename in filenames:\n",
    "        subdur_4.append(os.path.join(dirname, filename)) "
   ],
   "metadata": {
    "collapsed": false,
    "is_executing": true
   },
   "id": "a5c43593b03a2dbe"
  },
  {
   "cell_type": "code",
   "execution_count": null,
   "outputs": [],
   "source": [
    "subdur_train_data = []\n",
    "subdur_1_train = []\n",
    "subdur_2_train = []\n",
    "subdur_3_train = []\n",
    "subdur_4_train = []\n",
    "subdur_result = []\n",
    "for path in subdur_1:\n",
    "    img = Image.open(path)\n",
    "    # img = img.resize((128,128))\n",
    "    img = np.array(img)\n",
    "    if(img.shape == (512, 512, 3)):\n",
    "        subdur_train_data.append(np.array(img))\n",
    "        subdur_1_train.append(np.array(img))\n",
    "        subdur_result.append(encoder.transform([[3]]).toarray())\n",
    "        \n",
    "for path in subdur_2:\n",
    "    img = Image.open(path)\n",
    "    # img = img.resize((128,128))\n",
    "    img = np.array(img)\n",
    "    if(img.shape == (512, 512, 3)):\n",
    "        subdur_train_data.append(np.array(img))\n",
    "        subdur_2_train.append(np.array(img))\n",
    "        subdur_result.append(encoder.transform([[3]]).toarray()) \n",
    "        \n",
    "for path in subdur_3:\n",
    "    img = Image.open(path)\n",
    "    # img = img.resize((128,128))\n",
    "    img = np.array(img)\n",
    "    if(img.shape == (512, 512, 3)):\n",
    "        subdur_train_data.append(np.array(img))\n",
    "        subdur_3_train.append(np.array(img))\n",
    "        subdur_result.append(encoder.transform([[3]]).toarray())\n",
    "        \n",
    "for path in subdur_4:\n",
    "    img = Image.open(path)\n",
    "    # img = img.resize((128,128))\n",
    "    img = np.array(img)\n",
    "    if(img.shape == (512 ,512, 3)):\n",
    "        subdur_train_data.append(np.array(img))\n",
    "        subdur_4_train.append(np.array(img))\n",
    "        subdur_result.append(encoder.transform([[3]]).toarray())"
   ],
   "metadata": {
    "collapsed": false,
    "is_executing": true
   },
   "id": "fb697f18ae022b48"
  },
  {
   "cell_type": "markdown",
   "source": [
    "### IMPORT INTRAVENTRICULAR DATA"
   ],
   "metadata": {
    "collapsed": false
   },
   "id": "1c367788ef47559c"
  },
  {
   "cell_type": "code",
   "execution_count": null,
   "outputs": [],
   "source": [
    "# Import Intraventricular Data\n",
    "# 1 -> brain_bone_window\n",
    "# 2 -> brain_window\n",
    "# 3 -> max_contrast_window\n",
    "# 4 -> subdural_window\n",
    "intrav_1 = []\n",
    "intrav_2 = []\n",
    "intrav_3 = []\n",
    "intrav_4 = []\n",
    "\n",
    "for dirname, _, filenames in os.walk(file_dir + 'intraventricular/brain_bone_window/'):\n",
    "    for filename in filenames:\n",
    "        intrav_1.append(os.path.join(dirname, filename))\n",
    "        \n",
    "for dirname, _, filenames in os.walk(file_dir + 'intraventricular/brain_window/d'):\n",
    "    for filename in filenames:\n",
    "        intrav_2.append(os.path.join(dirname, filename))\n",
    "        \n",
    "for dirname, _, filenames in os.walk(file_dir + 'intraventricular/max_contrast_window/'):\n",
    "    for filename in filenames:\n",
    "        intrav_3.append(os.path.join(dirname, filename))\n",
    "        \n",
    "for dirname, _, filenames in os.walk(file_dir + 'intraventricular/subdural_window/'):\n",
    "    for filename in filenames:\n",
    "        intrav_4.append(os.path.join(dirname, filename)) "
   ],
   "metadata": {
    "collapsed": false,
    "is_executing": true
   },
   "id": "69e7e144f3978ed0"
  },
  {
   "cell_type": "code",
   "execution_count": null,
   "outputs": [],
   "source": [
    "intrav_train_data = []\n",
    "intrav_1_train = []\n",
    "intrav_2_train = []\n",
    "intrav_3_train = []\n",
    "intrav_4_train = []\n",
    "intrav_result = []\n",
    "for path in intrav_1:\n",
    "    img = Image.open(path)\n",
    "    # img = img.resize((128,128))\n",
    "    img = np.array(img)\n",
    "    if(img.shape == (512, 512, 3)):\n",
    "        intrav_train_data.append(np.array(img))\n",
    "        intrav_1_train.append(np.array(img))\n",
    "        intrav_result.append(encoder.transform([[4]]).toarray())\n",
    "        \n",
    "for path in intrav_2:\n",
    "    img = Image.open(path)\n",
    "    # img = img.resize((128,128))\n",
    "    img = np.array(img)\n",
    "    if(img.shape == (512, 512, 3)):\n",
    "        intrav_train_data.append(np.array(img))\n",
    "        intrav_2_train.append(np.array(img))\n",
    "        intrav_result.append(encoder.transform([[4]]).toarray()) \n",
    "        \n",
    "for path in intrav_3:\n",
    "    img = Image.open(path)\n",
    "    # img = img.resize((128,128))\n",
    "    img = np.array(img)\n",
    "    if(img.shape == (512, 512, 3)):\n",
    "        intrav_train_data.append(np.array(img))\n",
    "        intrav_3_train.append(np.array(img))\n",
    "        intrav_result.append(encoder.transform([[4]]).toarray())\n",
    "        \n",
    "for path in intrav_4:\n",
    "    img = Image.open(path)\n",
    "    # img = img.resize((128,128))\n",
    "    img = np.array(img)\n",
    "    if(img.shape == (512 ,512, 3)):\n",
    "        intrav_train_data.append(np.array(img))\n",
    "        intrav_4_train.append(np.array(img))\n",
    "        intrav_result.append(encoder.transform([[4]]).toarray())"
   ],
   "metadata": {
    "collapsed": false,
    "is_executing": true
   },
   "id": "2ebafd24ce754fa9"
  },
  {
   "cell_type": "code",
   "execution_count": 2,
   "id": "6d413242",
   "metadata": {
    "ExecuteTime": {
     "end_time": "2024-11-03T00:07:41.239370Z",
     "start_time": "2024-11-03T00:07:41.135793Z"
    }
   },
   "outputs": [],
   "source": [
    "image = Image.open(file_dir + '/normal/' + 'brain_bone_window/' + 'ID_0144e4030.jpg')\n",
    "# plt.imshow(image, cmap=plt.cm.bone)"
   ]
  },
  {
   "cell_type": "code",
   "execution_count": 4,
   "outputs": [
    {
     "data": {
      "text/plain": "<matplotlib.image.AxesImage at 0x31a0ab990>"
     },
     "execution_count": 4,
     "metadata": {},
     "output_type": "execute_result"
    },
    {
     "data": {
      "text/plain": "<Figure size 640x480 with 1 Axes>",
      "image/png": "[encoded data removed]"
     },
     "metadata": {},
     "output_type": "display_data"
    }
   ],
   "source": [
    "plt.imshow(image)"
   ],
   "metadata": {
    "collapsed": false,
    "ExecuteTime": {
     "end_time": "2024-11-03T00:07:54.281581Z",
     "start_time": "2024-11-03T00:07:54.112299Z"
    }
   },
   "id": "e9dd426a38f70e44"
  },
  {
   "cell_type": "code",
   "execution_count": null,
   "outputs": [],
   "source": [],
   "metadata": {
    "collapsed": false
   },
   "id": "1f17cfb71281825e"
  }
 ],
 "metadata": {
  "kernelspec": {
   "display_name": "Python 3",
   "language": "python",
   "name": "python3"
  },
  "language_info": {
   "codemirror_mode": {
    "name": "ipython",
    "version": 3
   },
   "file_extension": ".py",
   "mimetype": "text/x-python",
   "name": "python",
   "nbconvert_exporter": "python",
   "pygments_lexer": "ipython3",
   "version": "3.8.8"
  }
 },
 "nbformat": 4,
 "nbformat_minor": 5
}
